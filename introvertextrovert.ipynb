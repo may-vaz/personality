{
 "cells": [
  {
   "cell_type": "code",
   "execution_count": null,
   "id": "fcf25e9b-6291-4939-adb1-9725541ecbe7",
   "metadata": {},
   "outputs": [
    {
     "name": "stdout",
     "output_type": "stream",
     "text": [
      "Model Accuracy: 92.93%\n"
     ]
    }
   ],
   "source": [
    "import pandas as pd\n",
    "from sklearn.model_selection import train_test_split\n",
    "from sklearn.preprocessing import LabelEncoder\n",
    "from sklearn.tree import DecisionTreeClassifier\n",
    "from sklearn.metrics import accuracy_score\n",
    "import pickle\n",
    "\n",
    "\n",
    "df = pd.read_csv(\"per.csv\")  \n",
    "\n",
    "\n",
    "df['Stage_fear'] = df['Stage_fear'].map({'yes': 1, 'no': 0})\n",
    "df['Drained_after_socializing'] = df['Drained_after_socializing'].map({'yes': 1, 'no': 0})\n",
    "\n",
    "\n",
    "le = LabelEncoder()\n",
    "df['Personality'] = le.fit_transform(df['Personality'])  \n",
    "\n",
    "\n",
    "X = df.drop('Personality', axis=1)\n",
    "y = df['Personality']\n",
    "X_train, X_test, y_train, y_test = train_test_split(X, y, test_size=0.2, random_state=42)\n",
    "\n",
    "\n",
    "model = DecisionTreeClassifier(max_depth=5, random_state=42)\n",
    "model.fit(X_train, y_train)\n",
    "\n",
    "\n",
    "y_pred = model.predict(X_test)\n",
    "accuracy = accuracy_score(y_test, y_pred)\n",
    "print(f\"Model Accuracy: {accuracy * 100:.2f}%\")\n",
    "\n",
    "\n",
    "with open('personality_model.pkl', 'wb') as f:\n",
    "    pickle.dump(model, f)\n",
    "\n",
    "with open('label_encoder.pkl', 'wb') as f:\n",
    "    pickle.dump(le, f)\n"
   ]
  },
  {
   "cell_type": "code",
   "execution_count": 10,
   "id": "e1f2c53a-1a83-46a4-b2a6-9074475f505a",
   "metadata": {},
   "outputs": [
    {
     "name": "stdout",
     "output_type": "stream",
     "text": [
      "Predicted Personality Type: Extrovert\n"
     ]
    },
    {
     "name": "stderr",
     "output_type": "stream",
     "text": [
      "/Library/Frameworks/Python.framework/Versions/3.12/lib/python3.12/site-packages/sklearn/utils/validation.py:2739: UserWarning: X does not have valid feature names, but DecisionTreeClassifier was fitted with feature names\n",
      "  warnings.warn(\n"
     ]
    }
   ],
   "source": [
    "import pickle\n",
    "import numpy as np\n",
    "\n",
    "with open('personality_model.pkl', 'rb') as f:\n",
    "    model = pickle.load(f)\n",
    "\n",
    "with open('label_encoder.pkl', 'rb') as f:\n",
    "    le = pickle.load(f)\n",
    "\n",
    "\n",
    "# EXAMPLE: A new user input\n",
    "# Stage_fear: yes → 1, Drained_after_socializing: no → 0\n",
    "user_input = [8.0, 0, 9.0, 8.0, 0, 9.0, 9.0]  # change values as needed\n",
    "\n",
    "\n",
    "user_input_array = np.array(user_input).reshape(1, -1)\n",
    "\n",
    "\n",
    "prediction_encoded = model.predict(user_input_array)[0]\n",
    "prediction_label = le.inverse_transform([prediction_encoded])[0]\n",
    "\n",
    "print(\"Predicted Personality Type:\", prediction_label)\n"
   ]
  },
  {
   "cell_type": "code",
   "execution_count": null,
   "id": "746b05bf-de2e-4da8-ab81-209f05068682",
   "metadata": {},
   "outputs": [],
   "source": []
  },
  {
   "cell_type": "code",
   "execution_count": null,
   "id": "51cbbc94-6310-42bf-8edd-dcc456270d8c",
   "metadata": {},
   "outputs": [],
   "source": []
  }
 ],
 "metadata": {
  "kernelspec": {
   "display_name": "Python 3 (ipykernel)",
   "language": "python",
   "name": "python3"
  },
  "language_info": {
   "codemirror_mode": {
    "name": "ipython",
    "version": 3
   },
   "file_extension": ".py",
   "mimetype": "text/x-python",
   "name": "python",
   "nbconvert_exporter": "python",
   "pygments_lexer": "ipython3",
   "version": "3.12.4"
  }
 },
 "nbformat": 4,
 "nbformat_minor": 5
}
